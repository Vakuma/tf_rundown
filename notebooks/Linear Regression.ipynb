{
 "cells": [
  {
   "cell_type": "markdown",
   "metadata": {
    "deletable": true,
    "editable": true
   },
   "source": [
    "---\n",
    "## Linear Regression - Lets fit a line!\n",
    "---\n",
    "\n",
    "Lets create some data with a linear relationship. \n",
    "\n",
    "For this example, lets use **`slope = 0.8`** and **`bias = 5`** _i.e. Y = 0.8 \\* X + 5_\n",
    "\n",
    "Lets also add some random noise sampled from a Gaussian with `mean = 0` and `std = 5`"
   ]
  },
  {
   "cell_type": "code",
   "execution_count": 1,
   "metadata": {
    "collapsed": false,
    "deletable": true,
    "editable": true,
    "scrolled": true
   },
   "outputs": [
    {
     "data": {
      "image/png": "[encoded data removed]",
      "text/plain": [
       "<matplotlib.figure.Figure at 0x7f746c043ba8>"
      ]
     },
     "metadata": {},
     "output_type": "display_data"
    }
   ],
   "source": [
    "import time\n",
    "from IPython import display\n",
    "\n",
    "import numpy as np\n",
    "import matplotlib.pyplot as plt\n",
    "import tensorflow as tf\n",
    "\n",
    "num_points = 100\n",
    "X = np.arange(num_points)\n",
    "Y = (X * 0.8 + 10) + np.random.normal(0, 5, num_points)\n",
    "# Plot the points\n",
    "plt.plot(X, Y, 'rx')\n",
    "plt.show()"
   ]
  },
  {
   "cell_type": "markdown",
   "metadata": {
    "deletable": true,
    "editable": true
   },
   "source": [
    "Now lets start to build our linear regression model. We'll create a tensorflow graph that defines a simple single variable linear regression model that uses squared loss and gradient descent optimization.\n",
    "\n",
    "* **Step 1**: Lets create placeholders for the input variable `x` and the output variable `y`. Note that the shape has been explicitly mentioned. This is not necessary however."
   ]
  },
  {
   "cell_type": "code",
   "execution_count": 2,
   "metadata": {
    "collapsed": true,
    "deletable": true,
    "editable": true
   },
   "outputs": [],
   "source": [
    "# First create placeholders for the input and output\n",
    "# These placeholders will be later supplied with the data we created at execution time\n",
    "x = tf.placeholder(tf.float32, shape=(num_points))\n",
    "y = tf.placeholder(tf.float32, shape=(num_points))"
   ]
  },
  {
   "cell_type": "markdown",
   "metadata": {
    "deletable": true,
    "editable": true
   },
   "source": [
    "* **Step 2**: Now create tensorflow *Variables* for the Weight and Bias that have to be learned. *Variables* allow for its value to be changed at execution time. Since our parameters are to be \"learned\" and is updated after every epoch, we need to use *Variables* for the weight and bias term.\n",
    "\n",
    "  Variables **MUST** be supplied with an initial value that can be a tensor or a python object convertible to a tensor. It can also optionally take in the data type and a name (commonly used) among other parameters."
   ]
  },
  {
   "cell_type": "code",
   "execution_count": 3,
   "metadata": {
    "collapsed": false,
    "deletable": true,
    "editable": true
   },
   "outputs": [],
   "source": [
    "# Create variables to hold the weight and bias\n",
    "W = tf.Variable(0.1, dtype=tf.float32, name=\"weight\")\n",
    "b = tf.Variable(0.1, dtype=tf.float32, name=\"bias\")"
   ]
  },
  {
   "cell_type": "markdown",
   "metadata": {
    "deletable": true,
    "editable": true
   },
   "source": [
    "* **Step 3**: Lets create our linear model and define our loss function"
   ]
  },
  {
   "cell_type": "code",
   "execution_count": 4,
   "metadata": {
    "collapsed": false,
    "deletable": true,
    "editable": true
   },
   "outputs": [],
   "source": [
    "# The linear model to compute Y\n",
    "y_predicted = tf.add(tf.multiply(W, x), b)\n",
    "\n",
    "# Compute all the deltas between the computed y and the actual Y and square the errors\n",
    "squared_deltas = tf.square(tf.subtract(y_predicted, y))\n",
    "\n",
    "# Aggregate all the deltas over all the examples and divide its by the number of examples\n",
    "loss = tf.divide(tf.reduce_sum(squared_deltas), 2*num_points)"
   ]
  },
  {
   "cell_type": "markdown",
   "metadata": {
    "deletable": true,
    "editable": true
   },
   "source": [
    "* **Step 4**: Once the loss is computed, we now have to run the optimizer. We can use Gradient Descent"
   ]
  },
  {
   "cell_type": "code",
   "execution_count": 5,
   "metadata": {
    "collapsed": true,
    "deletable": true,
    "editable": true
   },
   "outputs": [],
   "source": [
    "# Create a gradient descent optimizer with the set learning rate\n",
    "optimizer = tf.train.GradientDescentOptimizer(learning_rate=0.0005)\n",
    "\n",
    "# Run the optimizer to minimize loss\n",
    "# Tensorflow automatically computes the gradients for the loss function!!!\n",
    "train = optimizer.minimize(loss)"
   ]
  },
  {
   "cell_type": "markdown",
   "metadata": {
    "deletable": true,
    "editable": true
   },
   "source": [
    "While constants are initialized, the Variables are not. To do this, we must explicitly call the `global_variables_initializer()` function."
   ]
  },
  {
   "cell_type": "code",
   "execution_count": 6,
   "metadata": {
    "collapsed": true,
    "deletable": true,
    "editable": true
   },
   "outputs": [],
   "source": [
    "# Initialize all variables\n",
    "init = tf.global_variables_initializer()"
   ]
  },
  {
   "cell_type": "markdown",
   "metadata": {
    "deletable": true,
    "editable": true
   },
   "source": [
    "* **Step 5**: Lets run the graph. First lets create a session and initialize the variables. After that, we will run gradient descent over the entire training set for the specified number of training_epochs. We will capture the variables of interest and print it out to monitor the optimization process.\n",
    "\n",
    "  Note: Learning rates `0.0005`+ doesn't let the optimization converge. The weights/biases bounce between +/- values and increase infinity.\n",
    " \n",
    " \n",
    "* **Step 6**: Plot the computed points as a line using the weight and bias terms, along with the original data points."
   ]
  },
  {
   "cell_type": "code",
   "execution_count": 7,
   "metadata": {
    "collapsed": false,
    "deletable": true,
    "editable": true
   },
   "outputs": [
    {
     "name": "stdout",
     "output_type": "stream",
     "text": [
      "W: 0.9281 B: 1.1511 Loss: 21.5116\n"
     ]
    },
    {
     "data": {
      "image/png": "[encoded data removed]",
      "text/plain": [
       "<matplotlib.figure.Figure at 0x7f7409797978>"
      ]
     },
     "metadata": {},
     "output_type": "display_data"
    }
   ],
   "source": [
    "# Run the graph\n",
    "with tf.Session() as sess:\n",
    "    # Initialize all variables\n",
    "    sess.run(init)\n",
    "    \n",
    "    # For each epoch\n",
    "    for epoch in range(1000):\n",
    "        # Run the optimizer and get the loss \n",
    "        curr_W, curr_b, curr_loss, _  = sess.run([W, b, loss, train], feed_dict = {x: X, y: Y})\n",
    "\n",
    "    print(\"W: %.4f\"%curr_W, \"B: %.4f\"%curr_b, \"Loss: %.4f\"%curr_loss)\n",
    "\n",
    "    # Plot the points\n",
    "    plt.plot(X, Y, 'rx', label=\"All Data\")\n",
    "    # Plot the computed points as a line\n",
    "    plt.plot(X, curr_W * X + curr_b, label=\"Line of fit\")\n",
    "    plt.legend()\n",
    "\n",
    "    plt.show()\n",
    "\n",
    "    # This must be used if the output/plot is being printed within the loop\n",
    "    display.clear_output(wait=True)\n",
    "    time.sleep(0.1)\n",
    "    "
   ]
  },
  {
   "cell_type": "markdown",
   "metadata": {
    "collapsed": true,
    "deletable": true,
    "editable": true
   },
   "source": [
    "And there you have it! The line fits! Playing with the hyperparameters can get better fits!"
   ]
  }
 ],
 "metadata": {
  "kernelspec": {
   "display_name": "Python 3",
   "language": "python",
   "name": "python3"
  },
  "language_info": {
   "codemirror_mode": {
    "name": "ipython",
    "version": 3
   },
   "file_extension": ".py",
   "mimetype": "text/x-python",
   "name": "python",
   "nbconvert_exporter": "python",
   "pygments_lexer": "ipython3",
   "version": "3.4.3"
  }
 },
 "nbformat": 4,
 "nbformat_minor": 2
}
