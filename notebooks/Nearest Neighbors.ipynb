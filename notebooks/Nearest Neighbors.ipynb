{
 "cells": [
  {
   "cell_type": "markdown",
   "metadata": {
    "deletable": true,
    "editable": true
   },
   "source": [
    "---\n",
    "## Classification - MNIST dataset\n",
    "---\n",
    "\n",
    "Exploring the popular MNIST dataset. \n",
    "\n",
    "Tensorflow provides a function to ingest the data."
   ]
  },
  {
   "cell_type": "code",
   "execution_count": 1,
   "metadata": {
    "collapsed": false,
    "deletable": true,
    "editable": true
   },
   "outputs": [
    {
     "name": "stdout",
     "output_type": "stream",
     "text": [
      "Extracting /tmp/data/train-images-idx3-ubyte.gz\n",
      "Extracting /tmp/data/train-labels-idx1-ubyte.gz\n",
      "Extracting /tmp/data/t10k-images-idx3-ubyte.gz\n",
      "Extracting /tmp/data/t10k-labels-idx1-ubyte.gz\n"
     ]
    }
   ],
   "source": [
    "# Necessary imports\n",
    "import tensorflow as tf\n",
    "import numpy as np\n",
    "from PIL import Image, ImageOps\n",
    "from matplotlib.pyplot import imshow\n",
    "%matplotlib inline\n",
    "\n",
    "from tensorflow.examples.tutorials.mnist import input_data\n",
    "\n",
    "# Read the mnist dataset\n",
    "mnist = input_data.read_data_sets(\"/tmp/data/\", one_hot=True)\n",
    "\n",
    "# Python variables for the image np arrays and labels\n",
    "X_train = mnist.train.images\n",
    "Y_train = mnist.train.labels\n",
    "X_test = mnist.test.images\n",
    "Y_test = mnist.test.labels"
   ]
  },
  {
   "cell_type": "markdown",
   "metadata": {
    "deletable": true,
    "editable": true
   },
   "source": [
    "Lets look at a random image and its label"
   ]
  },
  {
   "cell_type": "code",
   "execution_count": 2,
   "metadata": {
    "collapsed": false,
    "deletable": true,
    "editable": true
   },
   "outputs": [
    {
     "name": "stdout",
     "output_type": "stream",
     "text": [
      "Image label: 8\n"
     ]
    },
    {
     "data": {
      "text/plain": [
       "<matplotlib.image.AxesImage at 0x7f162009f1d0>"
      ]
     },
     "execution_count": 2,
     "metadata": {},
     "output_type": "execute_result"
    },
    {
     "data": {
      "image/png": "[encoded data removed]",
      "text/plain": [
       "<matplotlib.figure.Figure at 0x7f162678bb70>"
      ]
     },
     "metadata": {},
     "output_type": "display_data"
    }
   ],
   "source": [
    "# Pull out a random image & its label\n",
    "random_image_index = 200\n",
    "random_image = X_train[random_image_index]\n",
    "random_image_label = Y_train[random_image_index]\n",
    "\n",
    "# Print the label and the image as grayscale\n",
    "print(\"Image label: %d\"%(random_image_label.argmax()))\n",
    "pil_image = Image.fromarray(((random_image.reshape(28,28)) * 256).astype('uint8'), \"L\")\n",
    "imshow(ImageOps.invert(pil_image), cmap='gray')"
   ]
  },
  {
   "cell_type": "markdown",
   "metadata": {
    "deletable": true,
    "editable": true
   },
   "source": [
    "---\n",
    "## Nearest Neighbor Classifier\n",
    "---\n",
    "\n",
    "Build a nearest neighbors classifier using a **subset** of mnist data."
   ]
  },
  {
   "cell_type": "code",
   "execution_count": 3,
   "metadata": {
    "collapsed": false,
    "deletable": true,
    "editable": true
   },
   "outputs": [],
   "source": [
    "# Read only a subsample\n",
    "Xtr, Ytr = mnist.train.next_batch(5000)\n",
    "Xte, Yte = mnist.test.next_batch(200)"
   ]
  },
  {
   "cell_type": "markdown",
   "metadata": {
    "deletable": true,
    "editable": true
   },
   "source": [
    "* **Step 1**: Create placeholders to hold the images. \n",
    "\n",
    "  Using `None` for a dimension in shape means it can be *any* number."
   ]
  },
  {
   "cell_type": "code",
   "execution_count": 4,
   "metadata": {
    "collapsed": false,
    "deletable": true,
    "editable": true
   },
   "outputs": [],
   "source": [
    "# Create placeholders\n",
    "xtr = tf.placeholder(tf.float32, shape=(None, 784))\n",
    "xte = tf.placeholder(tf.float32, shape=[784])"
   ]
  },
  {
   "cell_type": "markdown",
   "metadata": {
    "deletable": true,
    "editable": true
   },
   "source": [
    "* **Step 2**: Lets build a graph using the following operations\n",
    "\n",
    "  1. First get the deltas along each dimension (pixel value): Use `tf.substract` to subtract **xtr** (train) with **xte** (test).  \n",
    "  (*Note that **xtr** has 784 columns (28x28) and can have any number of rows (examples). **xte** however is a vector of only 784 elements. `tf.substract` is a **broadcast** operation where each row of `xtr` is subtracted by xte.*)\n",
    "      \n",
    "  2. Next, get the squared deltas for each dimension: Use `tf.square` which performs elementwise squaring.\n",
    "  \n",
    "  3. Now compute the L2 distance. First use `tf.reduce_sum` to sum up all the `784` columns with squared deltas. Then use `tf.srqt` to compute the square root to get the L2 distance. Note that *distance* is a vector comprising distance of a particular test image with each of the train image.\n",
    "  \n",
    "  4. Find out the nearest neighbor. Use `tf.arg_min` (similar to numpy) to get the index of the closest training example."
   ]
  },
  {
   "cell_type": "code",
   "execution_count": 5,
   "metadata": {
    "collapsed": false,
    "deletable": true,
    "editable": true
   },
   "outputs": [],
   "source": [
    "# Image deltas\n",
    "deltas = tf.subtract(xtr, xte)\n",
    "squared_deltas = tf.square(deltas)\n",
    "\n",
    "# L2 distance:  Root of the sum of squared deltas\n",
    "distance = tf.sqrt(tf.reduce_sum(squared_deltas, axis=1))\n",
    "\n",
    "# This is the nearest neighbor\n",
    "nearest_neighbor = tf.arg_min(distance, 0)"
   ]
  },
  {
   "cell_type": "markdown",
   "metadata": {
    "deletable": true,
    "editable": true
   },
   "source": [
    "Now lets create a session and run the graph over the entire test set"
   ]
  },
  {
   "cell_type": "code",
   "execution_count": 6,
   "metadata": {
    "collapsed": false,
    "deletable": true,
    "editable": true
   },
   "outputs": [
    {
     "name": "stdout",
     "output_type": "stream",
     "text": [
      "Classification done. Accuracy: 0.920000\n"
     ]
    }
   ],
   "source": [
    "# A variable to keep track of the accuracy\n",
    "accuracy = 0\n",
    "\n",
    "# Initializing global variables\n",
    "init = tf.global_variables_initializer()\n",
    "\n",
    "# Create a session to run the graph\n",
    "with tf.Session() as sess:\n",
    "    # Run initialization\n",
    "    sess.run(init)\n",
    "    \n",
    "    # Loop over all the test data\n",
    "    for i in range(len(Xte)):\n",
    "\n",
    "        # Get the nearest neighbor, i.e the row number/example number from the training dataset\n",
    "        nearest_neighbor_index = sess.run(nearest_neighbor, feed_dict={xtr: Xtr, xte: Xte[i,:]})\n",
    "\n",
    "        # Extract the predicted label\n",
    "        predicted_label = np.argmax(Ytr[nearest_neighbor_index,:])\n",
    "\n",
    "        # Get the actual label and compare it \n",
    "        #print(\"Example: %d\\t\"%i, \"Predicted: %d\\t\"%predicted_label, \"Actual: %d\"%np.argmax(Yte[i]))\n",
    "        \n",
    "        # Calculate accuracy\n",
    "        if predicted_label == np.argmax(Yte[i]):\n",
    "            accuracy += 1\n",
    "    \n",
    "    print(\"Classification done. Accuracy: %f\"%(accuracy/len(Xte)))"
   ]
  },
  {
   "cell_type": "markdown",
   "metadata": {
    "deletable": true,
    "editable": true
   },
   "source": [
    "Now we can extend this to more than just one nearest neighbor and feed \"k\" in at runtime. "
   ]
  },
  {
   "cell_type": "code",
   "execution_count": 7,
   "metadata": {
    "collapsed": false,
    "deletable": true,
    "editable": true
   },
   "outputs": [
    {
     "name": "stdout",
     "output_type": "stream",
     "text": [
      "Classification done. Accuracy: 0.935000\n"
     ]
    }
   ],
   "source": [
    "# Lets create a placeholder for k\n",
    "k = tf.placeholder(tf.int32)\n",
    "\n",
    "# Distances computation doesn't change.\n",
    "\n",
    "# Create a new variable that holds a vector of nearest neighbors\n",
    "# Use the top k function but flip the distance scores with a engative sign\n",
    "# K is fed in\n",
    "# The top k returns both values and indicies as a tuple. Using [1] only gives us the indicies\n",
    "nearest_neighbors = tf.nn.top_k(tf.negative(distance), k=k)[1]\n",
    "\n",
    "# Rest of the code remains mostly the same.\n",
    "# Create the session as usual, initialize and run the the graph\n",
    "# Note that now k has to be \"fed\" into the graph\n",
    "accuracy = 0\n",
    "\n",
    "# Initializing global variables\n",
    "init = tf.global_variables_initializer()\n",
    "\n",
    "with tf.Session() as sess:\n",
    "    # Run initialization\n",
    "    sess.run(init)\n",
    "    \n",
    "    # Loop over all the test data\n",
    "    for i in range(len(Xte)):\n",
    "        # Get the nearest neighbor, i.e the row number/example number from the training dataset\n",
    "        nearest_neighbor_indices = sess.run(nearest_neighbors, feed_dict={xtr: Xtr, xte: Xte[i,:], k:5})\n",
    "        \n",
    "        # Extract the predicted labels by summing the different predictions and picking the one with highest votes\n",
    "        # Note that in case of equal votes, ideally the label of the nearest neighbor must be picked.\n",
    "        # For the demonstration purposes, it is ignored & argmax picks the first highest element\n",
    "        predicted_label = np.argmax(np.sum(Ytr[nearest_neighbor_indices,:], 0))\n",
    "        \n",
    "        # Get the actual label and compare it \n",
    "        #print(\"Example: %d\\t\"%i, \"Predicted: %d\\t\"%predicted_label, \"Actual: %d\"%np.argmax(Yte[i]))\n",
    "        \n",
    "        # Calculate accuracy\n",
    "        if predicted_label == np.argmax(Yte[i]):\n",
    "            accuracy += 1 \n",
    "    print(\"Classification done. Accuracy: %f\"%(accuracy/len(Xte)))"
   ]
  }
 ],
 "metadata": {
  "kernelspec": {
   "display_name": "Python 3",
   "language": "python",
   "name": "python3"
  },
  "language_info": {
   "codemirror_mode": {
    "name": "ipython",
    "version": 3
   },
   "file_extension": ".py",
   "mimetype": "text/x-python",
   "name": "python",
   "nbconvert_exporter": "python",
   "pygments_lexer": "ipython3",
   "version": "3.4.3"
  }
 },
 "nbformat": 4,
 "nbformat_minor": 2
}
