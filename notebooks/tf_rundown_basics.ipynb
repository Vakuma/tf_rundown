{
 "cells": [
  {
   "cell_type": "markdown",
   "metadata": {
    "deletable": true,
    "editable": true
   },
   "source": [
    "## Basics\n",
    "---\n",
    "\n",
    "Exploring the popular MNIST dataset."
   ]
  },
  {
   "cell_type": "code",
   "execution_count": 1,
   "metadata": {
    "collapsed": true,
    "deletable": true,
    "editable": true
   },
   "outputs": [],
   "source": [
    "from tensorflow.examples.tutorials.mnist import input_data"
   ]
  },
  {
   "cell_type": "code",
   "execution_count": 2,
   "metadata": {
    "collapsed": false,
    "deletable": true,
    "editable": true
   },
   "outputs": [
    {
     "name": "stdout",
     "output_type": "stream",
     "text": [
      "Successfully downloaded train-images-idx3-ubyte.gz 9912422 bytes.\n",
      "Extracting /tmp/data/train-images-idx3-ubyte.gz\n",
      "Successfully downloaded train-labels-idx1-ubyte.gz 28881 bytes.\n",
      "Extracting /tmp/data/train-labels-idx1-ubyte.gz\n",
      "Successfully downloaded t10k-images-idx3-ubyte.gz 1648877 bytes.\n",
      "Extracting /tmp/data/t10k-images-idx3-ubyte.gz\n",
      "Successfully downloaded t10k-labels-idx1-ubyte.gz 4542 bytes.\n",
      "Extracting /tmp/data/t10k-labels-idx1-ubyte.gz\n"
     ]
    }
   ],
   "source": [
    "mnist = input_data.read_data_sets(\"/tmp/data/\", one_hot=True)"
   ]
  },
  {
   "cell_type": "markdown",
   "metadata": {
    "deletable": true,
    "editable": true
   },
   "source": [
    "Read in all the data into separate python variables"
   ]
  },
  {
   "cell_type": "code",
   "execution_count": 3,
   "metadata": {
    "collapsed": true,
    "deletable": true,
    "editable": true
   },
   "outputs": [],
   "source": [
    "X_train = mnist.train.images\n",
    "Y_train = mnist.train.labels\n",
    "X_test = mnist.test.images\n",
    "Y_test = mnist.test.labels"
   ]
  },
  {
   "cell_type": "markdown",
   "metadata": {
    "deletable": true,
    "editable": true
   },
   "source": [
    "Let's view few random images and its label. \n",
    "* **Step 1**: Import the necessary packages"
   ]
  },
  {
   "cell_type": "code",
   "execution_count": 13,
   "metadata": {
    "collapsed": true,
    "deletable": true,
    "editable": true
   },
   "outputs": [],
   "source": [
    "from PIL import Image, ImageOps\n",
    "from matplotlib.pyplot import imshow"
   ]
  },
  {
   "cell_type": "markdown",
   "metadata": {
    "deletable": true,
    "editable": true
   },
   "source": [
    "* **Step 2**: Create a function that takes in a normalized mnist numpy array, scales it up to grayscale and displays it inline"
   ]
  },
  {
   "cell_type": "code",
   "execution_count": 14,
   "metadata": {
    "collapsed": false,
    "deletable": true,
    "editable": true,
    "scrolled": true
   },
   "outputs": [],
   "source": [
    "def show_mnist_image(image_array, label_array):  \n",
    "    # Show the image label\n",
    "    print(\"Image label: %d\"%(label_array.argmax()))\n",
    "    # Display the image inline\n",
    "    pil_image = Image.fromarray(((image_array.reshape(28,28)) * 256).astype('uint8'), \"L\")\n",
    "    %matplotlib inline\n",
    "    imshow(ImageOps.invert(pil_image), cmap='gray')"
   ]
  },
  {
   "cell_type": "markdown",
   "metadata": {
    "deletable": true,
    "editable": true
   },
   "source": [
    "* **Step 3**: Select a random image and display its label and the image"
   ]
  },
  {
   "cell_type": "code",
   "execution_count": 15,
   "metadata": {
    "collapsed": false,
    "deletable": true,
    "editable": true
   },
   "outputs": [
    {
     "name": "stdout",
     "output_type": "stream",
     "text": [
      "Image label: 1\n"
     ]
    },
    {
     "data": {
      "image/png": "[encoded data removed]",
      "text/plain": [
       "<matplotlib.figure.Figure at 0x7ff121742278>"
      ]
     },
     "metadata": {},
     "output_type": "display_data"
    }
   ],
   "source": [
    "# Pull a random image\n",
    "random_image_number = 500\n",
    "random_image = X_train[random_image_number]\n",
    "random_image_label = Y_train[random_image_number]\n",
    "\n",
    "show_mnist_image(random_image, random_image_label)"
   ]
  },
  {
   "cell_type": "markdown",
   "metadata": {
    "deletable": true,
    "editable": true
   },
   "source": [
    "---\n",
    "## Introduction\n",
    "---\n",
    "Explore basic tensorflow datatypes and some basic operations. Explore the use of tensorflow sessions"
   ]
  },
  {
   "cell_type": "code",
   "execution_count": 16,
   "metadata": {
    "collapsed": false,
    "deletable": true,
    "editable": true
   },
   "outputs": [
    {
     "name": "stdout",
     "output_type": "stream",
     "text": [
      "b'Hello Tensorflow'\n"
     ]
    }
   ],
   "source": [
    "import tensorflow as tf\n",
    "import numpy as np\n",
    "import matplotlib.pyplot as plt\n",
    "\n",
    "# Create a tensorflow constant\n",
    "hello = tf.constant(\"Hello Tensorflow\")\n",
    "# Create a new session\n",
    "sess = tf.Session()\n",
    "# Print the constant\n",
    "print(sess.run(hello))"
   ]
  },
  {
   "cell_type": "code",
   "execution_count": 17,
   "metadata": {
    "collapsed": false,
    "deletable": true,
    "editable": true
   },
   "outputs": [
    {
     "name": "stdout",
     "output_type": "stream",
     "text": [
      "A = 25.000000\n",
      "B = 5.000000\n",
      "A + B = 30.000000\n",
      "A * B = 125.000000\n",
      "A / B = 5.000000\n",
      "A + B using tf add = 30.000000\n",
      "A * B using tf multiply = 125.000000\n"
     ]
    }
   ],
   "source": [
    "# run addition and multiplication operations\n",
    "\n",
    "a = tf.constant(25, tf.float32)\n",
    "b = tf.constant(5, tf.float32)\n",
    "\n",
    "with tf.Session() as sess:\n",
    "    print(\"A = %f\"%sess.run(a))\n",
    "    print(\"B = %f\"%sess.run(b))\n",
    "    print(\"A + B = %f\"%sess.run(a+b))\n",
    "    print(\"A * B = %f\"%sess.run(a*b))\n",
    "    print(\"A / B = %f\"%sess.run(a/b))\n",
    "    print(\"A + B using tf add = %f\"%sess.run(tf.add(a, b)))\n",
    "    print(\"A * B using tf multiply = %f\"%sess.run(tf.multiply(a, b)))"
   ]
  },
  {
   "cell_type": "markdown",
   "metadata": {
    "deletable": true,
    "editable": true
   },
   "source": [
    "> *For placeholders, an optional argument `shape` can be used to make sure the input dimensions matches the required tensor dimensions. *\n",
    "\n",
    "> *If this is missing or `None` (default), then the placeholder can accept any shape.*"
   ]
  },
  {
   "cell_type": "code",
   "execution_count": 18,
   "metadata": {
    "collapsed": false,
    "deletable": true,
    "editable": true
   },
   "outputs": [
    {
     "name": "stdout",
     "output_type": "stream",
     "text": [
      "Operations by feeding values\n",
      "C = 4.000000\n",
      "D = 6.000000\n",
      "Sum = 10.000000\n",
      "Prod = 24.000000\n"
     ]
    }
   ],
   "source": [
    "# Run addition and multiplication with placeholders\n",
    "\n",
    "c = tf.placeholder(tf.float32, shape=())\n",
    "d = tf.placeholder(tf.float32, shape=())\n",
    "\n",
    "sum = tf.add(c, d)\n",
    "prod = tf.multiply(c, d)\n",
    "\n",
    "with tf.Session() as sess:\n",
    "    \n",
    "    print(\"Operations by feeding values\")\n",
    "    print(\"C = %f\"%sess.run(c, feed_dict={c: 4}))\n",
    "    print(\"D = %f\"%sess.run(d, feed_dict={d: 6}))\n",
    "    print(\"Sum = %f\"%sess.run(sum, feed_dict={c: 4, d: 6}))\n",
    "    print(\"Prod = %f\"%sess.run(prod, feed_dict={c: 4, d: 6}))"
   ]
  },
  {
   "cell_type": "code",
   "execution_count": 19,
   "metadata": {
    "collapsed": false,
    "deletable": true,
    "editable": true
   },
   "outputs": [
    {
     "name": "stdout",
     "output_type": "stream",
     "text": [
      "Matrix multiplication using python lists as feed dict values\n",
      "[[ 5.]\n",
      " [ 4.]]\n",
      "Matrix multiplication using numpyarrays as feed dict values\n",
      "[[ 5.]\n",
      " [ 4.]]\n"
     ]
    }
   ],
   "source": [
    "# Matrix operations with placeholders\n",
    "\n",
    "mat1 = tf.placeholder(tf.float32, shape=(2,2))\n",
    "mat2 = tf.placeholder(tf.float32, shape=(2,1))\n",
    "\n",
    "matmul = tf.matmul(mat1, mat2)\n",
    "\n",
    "with tf.Session() as sess:\n",
    "    print(\"Matrix multiplication using python lists as feed dict values\")\n",
    "    print(sess.run(matmul, feed_dict={ mat1: [[1,2],[2,1]], mat2: [[1],[2]]}))\n",
    "    print(\"Matrix multiplication using numpyarrays as feed dict values\")\n",
    "    print(sess.run(matmul, feed_dict={ mat1: np.array([[1,2],[2,1]]), mat2: np.array([[1],[2]])}))"
   ]
  },
  {
   "cell_type": "markdown",
   "metadata": {
    "deletable": true,
    "editable": true
   },
   "source": [
    "---\n",
    "## Basic Models\n",
    "---\n",
    "\n",
    "#### Nearest Neighbors\n",
    "\n",
    "Build a nearest neighbors classifier using a subset of mnist data"
   ]
  },
  {
   "cell_type": "code",
   "execution_count": 39,
   "metadata": {
    "collapsed": true,
    "deletable": true,
    "editable": true
   },
   "outputs": [],
   "source": [
    "# Read only a subsample\n",
    "Xtr, Ytr = mnist.train.next_batch(5000)\n",
    "Xte, Yte = mnist.test.next_batch(200)"
   ]
  },
  {
   "cell_type": "code",
   "execution_count": 53,
   "metadata": {
    "collapsed": false
   },
   "outputs": [],
   "source": [
    "# Create placeholders\n",
    "xtr = tf.placeholder(tf.float32, shape=(None, 784))\n",
    "xte = tf.placeholder(tf.float32, shape=[784])"
   ]
  },
  {
   "cell_type": "markdown",
   "metadata": {},
   "source": [
    "* 1) `tf.substract`: This takes in an array with any number of rows and 784 columns (xtr) and a vector of only 784 elements and subtracts. The operation is a **broadcast** operation where each row of `xtr` is subtracted by xte.\n",
    "* 2) `tf.square`: This performs elementwise squaring for each of the difference\n",
    "* 3) `tf.reduce_sum`: This reduces the `784` columns to a single column by summing them all along the first axis.\n",
    "* 4) `tf.srqt`: This computes the square root to return the distance. Now *distance* is a column of individual distances.\n",
    "* 5) `pred`: use arg_min to get the index of the closest training example "
   ]
  },
  {
   "cell_type": "code",
   "execution_count": 100,
   "metadata": {
    "collapsed": false
   },
   "outputs": [
    {
     "name": "stdout",
     "output_type": "stream",
     "text": [
      "Classification done. Accuracy: 0.895000\n"
     ]
    }
   ],
   "source": [
    "# Create L2 distance for all the images\n",
    "distance = tf.sqrt(tf.reduce_sum(tf.square(tf.subtract(xtr, xte)), axis=1))\n",
    "# Prediction is the image with the lowest distance\n",
    "nearest_neighbor = tf.arg_min(distance, 0)\n",
    "\n",
    "accuracy = 0\n",
    "\n",
    "# Initializing global variables\n",
    "init = tf.global_variables_initializer()\n",
    "\n",
    "with tf.Session() as sess:\n",
    "    # Run initialization\n",
    "    sess.run(init)\n",
    "    \n",
    "    # Loop over all the test data\n",
    "    for i in range(len(Xte)):\n",
    "        # Get the nearest neighbor, i.e the row number/example number from the training dataset\n",
    "        nearest_neighbor_index = sess.run(nearest_neighbor, feed_dict={xtr: Xtr, xte: Xte[i,:]})\n",
    "        # Extract the predicted label\n",
    "        predicted_label = np.argmax(Ytr[nearest_neighbor_index,:])\n",
    "        # Get the actual label and compare it \n",
    "#         print(\"Example: %d\\t\"%i, \"Predicted: %d\\t\"%predicted_label, \"Actual: %d\"%np.argmax(Yte[i]))\n",
    "        # Calculate accuracy\n",
    "        if predicted_label == np.argmax(Yte[i]):\n",
    "            accuracy += 1\n",
    "    print(\"Classification done. Accuracy: %f\"%(accuracy/len(Xte)))"
   ]
  },
  {
   "cell_type": "markdown",
   "metadata": {},
   "source": [
    "Reimplement the nn to have k = 5"
   ]
  },
  {
   "cell_type": "code",
   "execution_count": 101,
   "metadata": {
    "collapsed": false
   },
   "outputs": [
    {
     "name": "stdout",
     "output_type": "stream",
     "text": [
      "Classification done. Accuracy: 0.905000\n"
     ]
    }
   ],
   "source": [
    "# Create L2 distance for all the images\n",
    "distance = tf.sqrt(tf.reduce_sum(tf.square(tf.subtract(xtr, xte)), axis=1))\n",
    "# Prediction is the image with the lowest distance\n",
    "# Use the top k function but flip the distance scores with a engative sign\n",
    "nearest_neighbors = tf.nn.top_k(tf.negative(distance), k=5)[1]\n",
    "\n",
    "accuracy = 0\n",
    "\n",
    "# Initializing global variables\n",
    "init = tf.global_variables_initializer()\n",
    "\n",
    "with tf.Session() as sess:\n",
    "    # Run initialization\n",
    "    sess.run(init)\n",
    "    \n",
    "    # Loop over all the test data\n",
    "    for i in range(len(Xte)):\n",
    "        # Get the nearest neighbor, i.e the row number/example number from the training dataset\n",
    "        nearest_neighbor_indices = sess.run(nearest_neighbors, feed_dict={xtr: Xtr, xte: Xte[i,:]})\n",
    "        # Extract the predicted labels\n",
    "        predicted_label = np.argmax(np.sum(Ytr[nearest_neighbor_indices,:], 0))\n",
    "        # Get the actual label and compare it \n",
    "#         print(\"Example: %d\\t\"%i, \"Predicted: %d\\t\"%predicted_label, \"Actual: %d\"%np.argmax(Yte[i]))\n",
    "        # Calculate accuracy\n",
    "        if predicted_label == np.argmax(Yte[i]):\n",
    "            accuracy += 1 \n",
    "    print(\"Classification done. Accuracy: %f\"%(accuracy/len(Xte)))"
   ]
  },
  {
   "cell_type": "code",
   "execution_count": null,
   "metadata": {
    "collapsed": true
   },
   "outputs": [],
   "source": []
  }
 ],
 "metadata": {
  "kernelspec": {
   "display_name": "Python 3",
   "language": "python",
   "name": "python3"
  },
  "language_info": {
   "codemirror_mode": {
    "name": "ipython",
    "version": 3
   },
   "file_extension": ".py",
   "mimetype": "text/x-python",
   "name": "python",
   "nbconvert_exporter": "python",
   "pygments_lexer": "ipython3",
   "version": "3.4.3"
  }
 },
 "nbformat": 4,
 "nbformat_minor": 2
}
