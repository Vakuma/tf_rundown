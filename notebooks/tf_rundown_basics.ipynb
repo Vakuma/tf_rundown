{
 "cells": [
  {
   "cell_type": "markdown",
   "metadata": {
    "deletable": true,
    "editable": true
   },
   "source": [
    "---\n",
    "# Introduction\n",
    "---\n",
    "### Hello world!\n",
    "\n",
    "`tf.constant`: A tensor flow constant! Can be a string, number or a tensor. Once the value for a constant is set, it can never change!\n",
    "\n",
    "---"
   ]
  },
  {
   "cell_type": "code",
   "execution_count": 147,
   "metadata": {
    "collapsed": false,
    "deletable": true,
    "editable": true
   },
   "outputs": [
    {
     "name": "stdout",
     "output_type": "stream",
     "text": [
      "Tensor(\"Const_32:0\", shape=(), dtype=string)\n"
     ]
    }
   ],
   "source": [
    "import tensorflow as tf\n",
    "import numpy as np\n",
    "import matplotlib.pyplot as plt\n",
    "\n",
    "# Create a tensorflow constant\n",
    "hello = tf.constant(\"Hello World!\")\n",
    "# Print this variable as is\n",
    "print(hello)"
   ]
  },
  {
   "cell_type": "markdown",
   "metadata": {},
   "source": [
    "*Oops! That is not what we wanted! This is because the variable `hello` hasn't been evaluated yet. Tensorflow needs a **session** to run the graph in!*\n",
    "\n",
    "---"
   ]
  },
  {
   "cell_type": "code",
   "execution_count": 148,
   "metadata": {
    "collapsed": false
   },
   "outputs": [
    {
     "name": "stdout",
     "output_type": "stream",
     "text": [
      "Printing using Session.run()\n",
      "b'Hello World!'\n",
      "Printing using eval() function\n",
      "b'Hello World!'\n"
     ]
    }
   ],
   "source": [
    "# Create a new session\n",
    "sess = tf.Session()\n",
    "# Print the constant\n",
    "print(\"Printing using Session.run()\")\n",
    "print(sess.run(hello))\n",
    "# Also\n",
    "print(\"Printing using eval() function\")\n",
    "print(hello.eval(session=sess))"
   ]
  },
  {
   "cell_type": "markdown",
   "metadata": {},
   "source": [
    "### Tensorflow math operations!"
   ]
  },
  {
   "cell_type": "code",
   "execution_count": 149,
   "metadata": {
    "collapsed": false,
    "deletable": true,
    "editable": true
   },
   "outputs": [
    {
     "name": "stdout",
     "output_type": "stream",
     "text": [
      "A = 25.000000\n",
      "B = 5.000000\n",
      "A + B = 30.000000\n",
      "A * B = 125.000000\n",
      "A / B = 5.000000\n",
      "A + B using tf add = 30.000000\n",
      "A * B using tf multiply = 125.000000\n"
     ]
    }
   ],
   "source": [
    "# run addition and multiplication operations\n",
    "\n",
    "a = tf.constant(25, tf.float32)\n",
    "b = tf.constant(5, tf.float32)\n",
    "\n",
    "with tf.Session() as sess:\n",
    "    print(\"A = %f\"%sess.run(a))\n",
    "    print(\"B = %f\"%sess.run(b))\n",
    "    print(\"A + B = %f\"%sess.run(a+b))\n",
    "    print(\"A * B = %f\"%sess.run(a*b))\n",
    "    print(\"A / B = %f\"%sess.run(a/b))\n",
    "    print(\"A + B using tf add = %f\"%sess.run(tf.add(a, b)))\n",
    "    print(\"A * B using tf multiply = %f\"%sess.run(tf.multiply(a, b)))"
   ]
  },
  {
   "cell_type": "markdown",
   "metadata": {},
   "source": [
    "---\n",
    "*Tensorflow **placeholder** is a promise to provide a value later (supplied/fed at execution time). For placeholders, an optional argument `shape` can be used to make sure the input dimensions matches the required tensor dimensions.*\n",
    "\n",
    "*If this is missing or `None` (default), then the placeholder can accept any shape.*"
   ]
  },
  {
   "cell_type": "code",
   "execution_count": 150,
   "metadata": {
    "collapsed": false,
    "deletable": true,
    "editable": true
   },
   "outputs": [
    {
     "name": "stdout",
     "output_type": "stream",
     "text": [
      "Operations by feeding values\n",
      "C = 4.000000\n",
      "D = 6.000000\n",
      "Sum = 10.000000\n",
      "Prod = 24.000000\n"
     ]
    }
   ],
   "source": [
    "# Run addition and multiplication with placeholders\n",
    "\n",
    "c = tf.placeholder(tf.float32, shape=())\n",
    "d = tf.placeholder(tf.float32, shape=())\n",
    "\n",
    "sum = tf.add(c, d)\n",
    "prod = tf.multiply(c, d)\n",
    "\n",
    "with tf.Session() as sess:\n",
    "    \n",
    "    print(\"Operations by feeding values\")\n",
    "    print(\"C = %f\"%sess.run(c, feed_dict={c: 4}))\n",
    "    print(\"D = %f\"%sess.run(d, feed_dict={d: 6}))\n",
    "    print(\"Sum = %f\"%sess.run(sum, feed_dict={c: 4, d: 6}))\n",
    "    print(\"Prod = %f\"%sess.run(prod, feed_dict={c: 4, d: 6}))"
   ]
  },
  {
   "cell_type": "code",
   "execution_count": 151,
   "metadata": {
    "collapsed": false,
    "deletable": true,
    "editable": true
   },
   "outputs": [
    {
     "name": "stdout",
     "output_type": "stream",
     "text": [
      "Matrix multiplication using python lists as feed dict values\n",
      "[[ 5.]\n",
      " [ 4.]]\n",
      "Matrix multiplication using numpyarrays as feed dict values\n",
      "[[ 5.]\n",
      " [ 4.]]\n"
     ]
    }
   ],
   "source": [
    "# Matrix operations with placeholders\n",
    "\n",
    "mat1 = tf.placeholder(tf.float32, shape=(2,2))\n",
    "mat2 = tf.placeholder(tf.float32, shape=(2,1))\n",
    "\n",
    "matmul = tf.matmul(mat1, mat2)\n",
    "\n",
    "with tf.Session() as sess:\n",
    "    print(\"Matrix multiplication using python lists as feed dict values\")\n",
    "    print(sess.run(matmul, feed_dict={ mat1: [[1,2],[2,1]], mat2: [[1],[2]]}))\n",
    "    print(\"Matrix multiplication using numpyarrays as feed dict values\")\n",
    "    print(sess.run(matmul, feed_dict={ mat1: np.array([[1,2],[2,1]]), mat2: np.array([[1],[2]])}))"
   ]
  },
  {
   "cell_type": "markdown",
   "metadata": {
    "deletable": true,
    "editable": true
   },
   "source": [
    "---\n",
    "## Linear Regression - Lets fit a line!\n",
    "---\n",
    "\n",
    "Lets create some data with a linear relationship. \n",
    "\n",
    "For this example, lets use **`slope = 0.8`** and **`bias = 5`** _i.e. Y = 0.8 \\* X + 5_\n",
    "\n",
    "Lets also add some random noise sampled from a Gaussian with `mean = 0` and `std = 5`"
   ]
  },
  {
   "cell_type": "code",
   "execution_count": 152,
   "metadata": {
    "collapsed": false,
    "deletable": true,
    "editable": true,
    "scrolled": true
   },
   "outputs": [
    {
     "data": {
      "image/png": "[encoded data removed]",
      "text/plain": [
       "<matplotlib.figure.Figure at 0x7fd8a5da84e0>"
      ]
     },
     "metadata": {},
     "output_type": "display_data"
    }
   ],
   "source": [
    "num_points = 100\n",
    "X = np.arange(num_points)\n",
    "Y = (X * 0.8 + 5) + np.random.normal(0, 5, num_points)\n",
    "# Plot the points\n",
    "plt.plot(X, Y, 'rx', label=\"All Data\")\n",
    "plt.legend()\n",
    "plt.show()"
   ]
  },
  {
   "cell_type": "markdown",
   "metadata": {},
   "source": [
    "Now lets start to build our linear regression model. First lets set some hyperparameters. We'll need a learning rate for gradient descent and number of epochs over the dataset"
   ]
  },
  {
   "cell_type": "code",
   "execution_count": 180,
   "metadata": {
    "collapsed": true,
    "deletable": true,
    "editable": true
   },
   "outputs": [],
   "source": [
    "# Hyperparameter\n",
    "learning_rate = 0.0006\n",
    "epochs = 1000"
   ]
  },
  {
   "cell_type": "markdown",
   "metadata": {},
   "source": [
    "Next, lets create a tensorflow graph that defines a simple single variable linear regression model that uses squared loss and gradient descent optimization.\n",
    "\n",
    "* **Step 1**: Lets create placeholders for the input variable `x` and the output variable `y`. Note that the shape has been explicitly mentioned. This is not necessary however."
   ]
  },
  {
   "cell_type": "code",
   "execution_count": 174,
   "metadata": {
    "collapsed": true
   },
   "outputs": [],
   "source": [
    "# First create placeholders for the input and output\n",
    "# These placeholders will be later supplied with the data we created at execution time\n",
    "x = tf.placeholder(tf.float64, shape=(num_points,))\n",
    "y = tf.placeholder(tf.float64, shape=(num_points,))"
   ]
  },
  {
   "cell_type": "markdown",
   "metadata": {},
   "source": [
    "* **Step 2**: Now create tensorflow *Variables* for the Weight and Bias that have to be learned. *Variables* allow for its value to be changed at execution time. Since our parameters are to be \"learned\" and is updated after every epoch, we need to use *Variables* for the weight and bias term.\n",
    "\n",
    "  Variables **MUST** be supplied with an initial value that can be a tensor or a python object convertible to a tensor. It can also optionally take in the data type and a name (commonly used) among other parameters."
   ]
  },
  {
   "cell_type": "code",
   "execution_count": 175,
   "metadata": {
    "collapsed": false
   },
   "outputs": [],
   "source": [
    "# Create variables to hold the weight and bias\n",
    "W = tf.Variable(0.1, dtype=tf.float64, name=\"weight\")\n",
    "b = tf.Variable(0.1, dtype=tf.float64, name=\"bias\")"
   ]
  },
  {
   "cell_type": "markdown",
   "metadata": {},
   "source": [
    "* **Step 3**: Lets create our linear model and define our loss function"
   ]
  },
  {
   "cell_type": "code",
   "execution_count": 176,
   "metadata": {
    "collapsed": false,
    "deletable": true,
    "editable": true
   },
   "outputs": [],
   "source": [
    "# The linear model to compute Y\n",
    "y_predicted = tf.add(tf.multiply(W, x), b)\n",
    "\n",
    "# Compute all the deltas between the computed y and the actual Y and square the errors\n",
    "squared_deltas = tf.square(tf.subtract(y_predicted, y))\n",
    "\n",
    "# Aggregate all the deltas over all the examples and divide its by the number of examples\n",
    "loss = tf.divide(tf.reduce_sum(squared_deltas), 2*num_points)"
   ]
  },
  {
   "cell_type": "markdown",
   "metadata": {},
   "source": [
    "* **Step 4**: Once the loss is computed, we now have to run the optimizer. We can use Gradient Descent"
   ]
  },
  {
   "cell_type": "code",
   "execution_count": 177,
   "metadata": {
    "collapsed": true
   },
   "outputs": [],
   "source": [
    "# Create a gradient descent optimizer with the set learning rate\n",
    "optimizer = tf.train.GradientDescentOptimizer(learning_rate)\n",
    "\n",
    "# Run the optimizer to minimize loss\n",
    "# Tensorflow automatically computes the gradients for the loss function!!!\n",
    "train = optimizer.minimize(loss)"
   ]
  },
  {
   "cell_type": "markdown",
   "metadata": {},
   "source": [
    "While constants are initialized, the Variables are not. To do this, we must explicitly call the `global_variables_initializer()` function."
   ]
  },
  {
   "cell_type": "code",
   "execution_count": 178,
   "metadata": {
    "collapsed": true
   },
   "outputs": [],
   "source": [
    "# Initialize all variables\n",
    "init = tf.global_variables_initializer()"
   ]
  },
  {
   "cell_type": "markdown",
   "metadata": {},
   "source": [
    "* **Step 5**: Lets run the graph. First lets create a session and initialize the variables. After that, we will run gradient descent over the entire training set for the specified number of epochs. We will capture the variables of interest and print it out to monitor the optimization process.\n",
    "\n",
    "  Note: Learning rates `0.0005`+ doesn't let the optimization converge. The weights/biases bounce between +/- values and increase infinity.\n",
    " \n",
    " \n",
    "* **Step 6**: Plot the computed points as a line using the weight and bias terms, along with the original data points."
   ]
  },
  {
   "cell_type": "code",
   "execution_count": 181,
   "metadata": {
    "collapsed": false,
    "deletable": true,
    "editable": true
   },
   "outputs": [
    {
     "name": "stdout",
     "output_type": "stream",
     "text": [
      "W: 0.8626 B: 0.6422 Loss: 14.4472\n"
     ]
    },
    {
     "data": {
      "image/png": "[encoded data removed]",
      "text/plain": [
       "<matplotlib.figure.Figure at 0x7fd8517adc88>"
      ]
     },
     "metadata": {},
     "output_type": "display_data"
    }
   ],
   "source": [
    "# Run the graph\n",
    "with tf.Session() as sess:\n",
    "    # Initialize all variables\n",
    "    sess.run(init)\n",
    "    \n",
    "    # For each epoch\n",
    "    for epoch in range(epochs):\n",
    "        # Run the optimizer and get the loss \n",
    "        curr_W, curr_b, curr_loss, _  = sess.run([W, b, loss, train], feed_dict = {x: X, y: Y})\n",
    "#         print(\"W: %.4f\"%curr_W, \"B: %.4f\"%curr_b, \"Loss: %.4f\"%curr_loss)\n",
    "    print(\"W: %.4f\"%curr_W, \"B: %.4f\"%curr_b, \"Loss: %.4f\"%curr_loss)\n",
    "    \n",
    "    # Plot the points\n",
    "    plt.plot(X, Y, 'rx', label=\"All Data\")\n",
    "    # Plot the computed points as a line\n",
    "    plt.plot(X, curr_W * X + curr_b, label=\"Line of fit\")\n",
    "    plt.legend()\n",
    "    plt.show()\n",
    "    "
   ]
  },
  {
   "cell_type": "markdown",
   "metadata": {
    "collapsed": true,
    "deletable": true,
    "editable": true
   },
   "source": [
    "And there you have it! The line fits! Playing with the hyperparameters can get better fits!"
   ]
  },
  {
   "cell_type": "markdown",
   "metadata": {
    "deletable": true,
    "editable": true
   },
   "source": [
    "---\n",
    "## Classification - MNIST dataset\n",
    "---\n",
    "\n",
    "Exploring the popular MNIST dataset."
   ]
  },
  {
   "cell_type": "code",
   "execution_count": 160,
   "metadata": {
    "collapsed": true,
    "deletable": true,
    "editable": true
   },
   "outputs": [],
   "source": [
    "from tensorflow.examples.tutorials.mnist import input_data"
   ]
  },
  {
   "cell_type": "code",
   "execution_count": 161,
   "metadata": {
    "collapsed": false,
    "deletable": true,
    "editable": true
   },
   "outputs": [
    {
     "name": "stdout",
     "output_type": "stream",
     "text": [
      "Extracting /tmp/data/train-images-idx3-ubyte.gz\n",
      "Extracting /tmp/data/train-labels-idx1-ubyte.gz\n",
      "Extracting /tmp/data/t10k-images-idx3-ubyte.gz\n",
      "Extracting /tmp/data/t10k-labels-idx1-ubyte.gz\n"
     ]
    }
   ],
   "source": [
    "mnist = input_data.read_data_sets(\"/tmp/data/\", one_hot=True)"
   ]
  },
  {
   "cell_type": "markdown",
   "metadata": {
    "deletable": true,
    "editable": true
   },
   "source": [
    "Read in all the data into separate python variables"
   ]
  },
  {
   "cell_type": "code",
   "execution_count": 162,
   "metadata": {
    "collapsed": true,
    "deletable": true,
    "editable": true
   },
   "outputs": [],
   "source": [
    "X_train = mnist.train.images\n",
    "Y_train = mnist.train.labels\n",
    "X_test = mnist.test.images\n",
    "Y_test = mnist.test.labels"
   ]
  },
  {
   "cell_type": "markdown",
   "metadata": {
    "deletable": true,
    "editable": true
   },
   "source": [
    "Let's view few random images and its label. \n",
    "* **Step 1**: Import the necessary packages"
   ]
  },
  {
   "cell_type": "code",
   "execution_count": 163,
   "metadata": {
    "collapsed": true,
    "deletable": true,
    "editable": true
   },
   "outputs": [],
   "source": [
    "from PIL import Image, ImageOps\n",
    "from matplotlib.pyplot import imshow"
   ]
  },
  {
   "cell_type": "markdown",
   "metadata": {
    "deletable": true,
    "editable": true
   },
   "source": [
    "* **Step 2**: Create a function that takes in a normalized mnist numpy array, scales it up to grayscale and displays it inline"
   ]
  },
  {
   "cell_type": "code",
   "execution_count": 164,
   "metadata": {
    "collapsed": false,
    "deletable": true,
    "editable": true,
    "scrolled": true
   },
   "outputs": [],
   "source": [
    "def show_mnist_image(image_array, label_array):  \n",
    "    # Show the image label\n",
    "    print(\"Image label: %d\"%(label_array.argmax()))\n",
    "    # Display the image inline\n",
    "    pil_image = Image.fromarray(((image_array.reshape(28,28)) * 256).astype('uint8'), \"L\")\n",
    "    %matplotlib inline\n",
    "    imshow(ImageOps.invert(pil_image), cmap='gray')"
   ]
  },
  {
   "cell_type": "markdown",
   "metadata": {
    "deletable": true,
    "editable": true
   },
   "source": [
    "* **Step 3**: Select a random image and display its label and the image"
   ]
  },
  {
   "cell_type": "code",
   "execution_count": 182,
   "metadata": {
    "collapsed": false,
    "deletable": true,
    "editable": true
   },
   "outputs": [
    {
     "name": "stdout",
     "output_type": "stream",
     "text": [
      "Image label: 8\n"
     ]
    },
    {
     "data": {
      "image/png": "[encoded data removed]",
      "text/plain": [
       "<matplotlib.figure.Figure at 0x7fd8a5af4898>"
      ]
     },
     "metadata": {},
     "output_type": "display_data"
    }
   ],
   "source": [
    "# Pull a random image\n",
    "random_image_number = 200\n",
    "random_image = X_train[random_image_number]\n",
    "random_image_label = Y_train[random_image_number]\n",
    "\n",
    "show_mnist_image(random_image, random_image_label)"
   ]
  },
  {
   "cell_type": "markdown",
   "metadata": {
    "deletable": true,
    "editable": true
   },
   "source": [
    "---\n",
    "## Basic Models\n",
    "---\n",
    "\n",
    "### 1. Nearest Neighbors\n",
    "---\n",
    "\n",
    "Build a nearest neighbors classifier using a subset of mnist data"
   ]
  },
  {
   "cell_type": "code",
   "execution_count": 166,
   "metadata": {
    "collapsed": true,
    "deletable": true,
    "editable": true
   },
   "outputs": [],
   "source": [
    "# Read only a subsample\n",
    "Xtr, Ytr = mnist.train.next_batch(5000)\n",
    "Xte, Yte = mnist.test.next_batch(200)"
   ]
  },
  {
   "cell_type": "code",
   "execution_count": 167,
   "metadata": {
    "collapsed": false,
    "deletable": true,
    "editable": true
   },
   "outputs": [],
   "source": [
    "# Create placeholders\n",
    "xtr = tf.placeholder(tf.float32, shape=(None, 784))\n",
    "xte = tf.placeholder(tf.float32, shape=[784])"
   ]
  },
  {
   "cell_type": "markdown",
   "metadata": {
    "deletable": true,
    "editable": true
   },
   "source": [
    "* 1) `tf.substract`: This takes in an array with any number of rows and 784 columns (xtr) and a vector of only 784 elements and subtracts. The operation is a **broadcast** operation where each row of `xtr` is subtracted by xte.\n",
    "* 2) `tf.square`: This performs elementwise squaring for each of the difference\n",
    "* 3) `tf.reduce_sum`: This reduces the `784` columns to a single column by summing them all along the first axis.\n",
    "* 4) `tf.srqt`: This computes the square root to return the distance. Now *distance* is a column of individual distances.\n",
    "* 5) `pred`: use arg_min to get the index of the closest training example "
   ]
  },
  {
   "cell_type": "code",
   "execution_count": 168,
   "metadata": {
    "collapsed": false,
    "deletable": true,
    "editable": true
   },
   "outputs": [
    {
     "name": "stdout",
     "output_type": "stream",
     "text": [
      "Classification done. Accuracy: 0.920000\n"
     ]
    }
   ],
   "source": [
    "# Create L2 distance for all the images\n",
    "distance = tf.sqrt(tf.reduce_sum(tf.square(tf.subtract(xtr, xte)), axis=1))\n",
    "# Prediction is the image with the lowest distance\n",
    "nearest_neighbor = tf.arg_min(distance, 0)\n",
    "\n",
    "accuracy = 0\n",
    "\n",
    "# Initializing global variables\n",
    "init = tf.global_variables_initializer()\n",
    "\n",
    "with tf.Session() as sess:\n",
    "    # Run initialization\n",
    "    sess.run(init)\n",
    "    \n",
    "    # Loop over all the test data\n",
    "    for i in range(len(Xte)):\n",
    "        # Get the nearest neighbor, i.e the row number/example number from the training dataset\n",
    "        nearest_neighbor_index = sess.run(nearest_neighbor, feed_dict={xtr: Xtr, xte: Xte[i,:]})\n",
    "        # Extract the predicted label\n",
    "        predicted_label = np.argmax(Ytr[nearest_neighbor_index,:])\n",
    "        # Get the actual label and compare it \n",
    "#         print(\"Example: %d\\t\"%i, \"Predicted: %d\\t\"%predicted_label, \"Actual: %d\"%np.argmax(Yte[i]))\n",
    "        # Calculate accuracy\n",
    "        if predicted_label == np.argmax(Yte[i]):\n",
    "            accuracy += 1\n",
    "    print(\"Classification done. Accuracy: %f\"%(accuracy/len(Xte)))"
   ]
  },
  {
   "cell_type": "markdown",
   "metadata": {
    "deletable": true,
    "editable": true
   },
   "source": [
    "Reimplement the nn to have k = 5"
   ]
  },
  {
   "cell_type": "code",
   "execution_count": 169,
   "metadata": {
    "collapsed": false,
    "deletable": true,
    "editable": true
   },
   "outputs": [
    {
     "name": "stdout",
     "output_type": "stream",
     "text": [
      "Classification done. Accuracy: 0.935000\n"
     ]
    }
   ],
   "source": [
    "# Create L2 distance for all the images\n",
    "distance = tf.sqrt(tf.reduce_sum(tf.square(tf.subtract(xtr, xte)), axis=1))\n",
    "# Prediction is the image with the lowest distance\n",
    "# Use the top k function but flip the distance scores with a engative sign\n",
    "nearest_neighbors = tf.nn.top_k(tf.negative(distance), k=5)[1]\n",
    "\n",
    "accuracy = 0\n",
    "\n",
    "# Initializing global variables\n",
    "init = tf.global_variables_initializer()\n",
    "\n",
    "with tf.Session() as sess:\n",
    "    # Run initialization\n",
    "    sess.run(init)\n",
    "    \n",
    "    # Loop over all the test data\n",
    "    for i in range(len(Xte)):\n",
    "        # Get the nearest neighbor, i.e the row number/example number from the training dataset\n",
    "        nearest_neighbor_indices = sess.run(nearest_neighbors, feed_dict={xtr: Xtr, xte: Xte[i,:]})\n",
    "        # Extract the predicted labels\n",
    "        predicted_label = np.argmax(np.sum(Ytr[nearest_neighbor_indices,:], 0))\n",
    "        # Get the actual label and compare it \n",
    "#         print(\"Example: %d\\t\"%i, \"Predicted: %d\\t\"%predicted_label, \"Actual: %d\"%np.argmax(Yte[i]))\n",
    "        # Calculate accuracy\n",
    "        if predicted_label == np.argmax(Yte[i]):\n",
    "            accuracy += 1 \n",
    "    print(\"Classification done. Accuracy: %f\"%(accuracy/len(Xte)))"
   ]
  }
 ],
 "metadata": {
  "kernelspec": {
   "display_name": "Python 3",
   "language": "python",
   "name": "python3"
  },
  "language_info": {
   "codemirror_mode": {
    "name": "ipython",
    "version": 3
   },
   "file_extension": ".py",
   "mimetype": "text/x-python",
   "name": "python",
   "nbconvert_exporter": "python",
   "pygments_lexer": "ipython3",
   "version": "3.4.3"
  }
 },
 "nbformat": 4,
 "nbformat_minor": 2
}
