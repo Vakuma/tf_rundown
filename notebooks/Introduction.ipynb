{
 "cells": [
  {
   "cell_type": "markdown",
   "metadata": {
    "deletable": true,
    "editable": true
   },
   "source": [
    "---\n",
    "# Introduction\n",
    "---\n",
    "### Hello world!\n",
    "\n",
    "`tf.constant`: A tensor flow constant! Can be a string, number or a tensor. Once the value for a constant is set, it can never change!\n",
    "\n",
    "---"
   ]
  },
  {
   "cell_type": "code",
   "execution_count": 1,
   "metadata": {
    "collapsed": false,
    "deletable": true,
    "editable": true
   },
   "outputs": [
    {
     "name": "stdout",
     "output_type": "stream",
     "text": [
      "Tensor(\"Const:0\", shape=(), dtype=string)\n"
     ]
    }
   ],
   "source": [
    "import tensorflow as tf\n",
    "\n",
    "# Create a tensorflow constant\n",
    "hello = tf.constant(\"Hello World!\")\n",
    "# Print this variable as is\n",
    "print(hello)"
   ]
  },
  {
   "cell_type": "markdown",
   "metadata": {
    "deletable": true,
    "editable": true
   },
   "source": [
    "*Oops! That is not what we wanted! This is because the variable `hello` hasn't been evaluated yet. Tensorflow needs a **session** to run the graph in!*\n",
    "\n",
    "---"
   ]
  },
  {
   "cell_type": "code",
   "execution_count": 2,
   "metadata": {
    "collapsed": false,
    "deletable": true,
    "editable": true
   },
   "outputs": [
    {
     "name": "stdout",
     "output_type": "stream",
     "text": [
      "Printing using Session.run()\n",
      "b'Hello World!'\n",
      "Printing using eval() function\n",
      "b'Hello World!'\n"
     ]
    }
   ],
   "source": [
    "# Create a new session\n",
    "sess = tf.Session()\n",
    "# Print the constant\n",
    "print(\"Printing using Session.run()\")\n",
    "print(sess.run(hello))\n",
    "# Also\n",
    "print(\"Printing using eval() function\")\n",
    "print(hello.eval(session=sess))"
   ]
  },
  {
   "cell_type": "markdown",
   "metadata": {
    "deletable": true,
    "editable": true
   },
   "source": [
    "### Tensorflow math operations!"
   ]
  },
  {
   "cell_type": "code",
   "execution_count": 3,
   "metadata": {
    "collapsed": false,
    "deletable": true,
    "editable": true
   },
   "outputs": [
    {
     "name": "stdout",
     "output_type": "stream",
     "text": [
      "A = 25.000000\n",
      "B = 5.000000\n",
      "A + B = 30.000000\n",
      "A * B = 125.000000\n",
      "A / B = 5.000000\n",
      "A + B using tf add = 30.000000\n",
      "A * B using tf multiply = 125.000000\n"
     ]
    }
   ],
   "source": [
    "# run addition and multiplication operations\n",
    "\n",
    "a = tf.constant(25, tf.float32)\n",
    "b = tf.constant(5, tf.float32)\n",
    "\n",
    "with tf.Session() as sess:\n",
    "    print(\"A = %f\"%sess.run(a))\n",
    "    print(\"B = %f\"%sess.run(b))\n",
    "    print(\"A + B = %f\"%sess.run(a+b))\n",
    "    print(\"A * B = %f\"%sess.run(a*b))\n",
    "    print(\"A / B = %f\"%sess.run(a/b))\n",
    "    print(\"A + B using tf add = %f\"%sess.run(tf.add(a, b)))\n",
    "    print(\"A * B using tf multiply = %f\"%sess.run(tf.multiply(a, b)))"
   ]
  },
  {
   "cell_type": "markdown",
   "metadata": {
    "deletable": true,
    "editable": true
   },
   "source": [
    "---\n",
    "*Tensorflow **placeholder** is a promise to provide a value later (supplied/fed at execution time). For placeholders, an optional argument `shape` can be used to make sure the input dimensions matches the required tensor dimensions.*\n",
    "\n",
    "*If this is missing or `None` (default), then the placeholder can accept any shape.*"
   ]
  },
  {
   "cell_type": "code",
   "execution_count": 4,
   "metadata": {
    "collapsed": false,
    "deletable": true,
    "editable": true
   },
   "outputs": [
    {
     "name": "stdout",
     "output_type": "stream",
     "text": [
      "Operations by feeding values\n",
      "C = 4.000000\n",
      "D = 6.000000\n",
      "Sum = 10.000000\n",
      "Prod = 24.000000\n"
     ]
    }
   ],
   "source": [
    "# Run addition and multiplication with placeholders\n",
    "\n",
    "c = tf.placeholder(tf.float32, shape=())\n",
    "d = tf.placeholder(tf.float32, shape=())\n",
    "\n",
    "sum = tf.add(c, d)\n",
    "prod = tf.multiply(c, d)\n",
    "\n",
    "with tf.Session() as sess:\n",
    "    \n",
    "    print(\"Operations by feeding values\")\n",
    "    print(\"C = %f\"%sess.run(c, feed_dict={c: 4}))\n",
    "    print(\"D = %f\"%sess.run(d, feed_dict={d: 6}))\n",
    "    print(\"Sum = %f\"%sess.run(sum, feed_dict={c: 4, d: 6}))\n",
    "    print(\"Prod = %f\"%sess.run(prod, feed_dict={c: 4, d: 6}))"
   ]
  },
  {
   "cell_type": "code",
   "execution_count": 5,
   "metadata": {
    "collapsed": false,
    "deletable": true,
    "editable": true
   },
   "outputs": [
    {
     "name": "stdout",
     "output_type": "stream",
     "text": [
      "Matrix multiplication using python lists as feed dict values\n",
      "[[ 5.]\n",
      " [ 4.]]\n",
      "Matrix multiplication using numpyarrays as feed dict values\n",
      "[[ 5.]\n",
      " [ 4.]]\n"
     ]
    }
   ],
   "source": [
    "# Matrix operations with placeholders\n",
    "import numpy as np\n",
    "\n",
    "mat1 = tf.placeholder(tf.float32, shape=(2,2))\n",
    "mat2 = tf.placeholder(tf.float32, shape=(2,1))\n",
    "\n",
    "matmul = tf.matmul(mat1, mat2)\n",
    "\n",
    "with tf.Session() as sess:\n",
    "    print(\"Matrix multiplication using python lists as feed dict values\")\n",
    "    print(sess.run(matmul, feed_dict={ mat1: [[1,2],[2,1]], mat2: [[1],[2]]}))\n",
    "    print(\"Matrix multiplication using numpyarrays as feed dict values\")\n",
    "    print(sess.run(matmul, feed_dict={ mat1: np.array([[1,2],[2,1]]), mat2: np.array([[1],[2]])}))"
   ]
  }
 ],
 "metadata": {
  "kernelspec": {
   "display_name": "Python 3",
   "language": "python",
   "name": "python3"
  },
  "language_info": {
   "codemirror_mode": {
    "name": "ipython",
    "version": 3
   },
   "file_extension": ".py",
   "mimetype": "text/x-python",
   "name": "python",
   "nbconvert_exporter": "python",
   "pygments_lexer": "ipython3",
   "version": "3.4.3"
  }
 },
 "nbformat": 4,
 "nbformat_minor": 2
}
