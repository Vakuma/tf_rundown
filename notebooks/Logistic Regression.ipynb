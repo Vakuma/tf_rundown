{
 "cells": [
  {
   "cell_type": "markdown",
   "metadata": {
    "deletable": true,
    "editable": true
   },
   "source": [
    "---\n",
    "## Classification - MNIST dataset\n",
    "---\n",
    "\n",
    "Exploring the popular MNIST dataset. \n",
    "\n",
    "Tensorflow provides a function to ingest the data."
   ]
  },
  {
   "cell_type": "code",
   "execution_count": 1,
   "metadata": {
    "collapsed": false,
    "deletable": true,
    "editable": true
   },
   "outputs": [
    {
     "name": "stdout",
     "output_type": "stream",
     "text": [
      "Extracting /tmp/data/train-images-idx3-ubyte.gz\n",
      "Extracting /tmp/data/train-labels-idx1-ubyte.gz\n",
      "Extracting /tmp/data/t10k-images-idx3-ubyte.gz\n",
      "Extracting /tmp/data/t10k-labels-idx1-ubyte.gz\n"
     ]
    }
   ],
   "source": [
    "# Necessary imports\n",
    "import time\n",
    "from IPython import display\n",
    "\n",
    "import numpy as np\n",
    "from matplotlib.pyplot import imshow\n",
    "from PIL import Image, ImageOps\n",
    "import tensorflow as tf\n",
    "\n",
    "%matplotlib inline\n",
    "\n",
    "from tensorflow.examples.tutorials.mnist import input_data\n",
    "\n",
    "# Read the mnist dataset\n",
    "mnist = input_data.read_data_sets(\"/tmp/data/\", one_hot=True)"
   ]
  },
  {
   "cell_type": "markdown",
   "metadata": {},
   "source": [
    "A little exploration"
   ]
  },
  {
   "cell_type": "code",
   "execution_count": 2,
   "metadata": {
    "collapsed": false
   },
   "outputs": [
    {
     "name": "stdout",
     "output_type": "stream",
     "text": [
      "Shape of MNIST Images.\n",
      "Shape = (num_examples * num_features/pixels)\n",
      "\n",
      "Train      :  (55000, 784)\n",
      "Validation :  (5000, 784)\n",
      "Train      :  (10000, 784)\n",
      "-------------------------\n",
      "Shape of MNIST Labels.\n",
      "Shape = (num_examples * num_labels/classes)\n",
      "\n",
      "Train      :  (55000, 10)\n",
      "Validation :  (5000, 10)\n",
      "Train      :  (10000, 10)\n"
     ]
    }
   ],
   "source": [
    "# Explore mnist\n",
    "print(\"Shape of MNIST Images.\\nShape = (num_examples * num_features/pixels)\\n\")\n",
    "print(\"Train      : \", mnist.train.images.shape)\n",
    "print(\"Validation : \", mnist.validation.images.shape)\n",
    "print(\"Train      : \", mnist.test.images.shape)\n",
    "print(\"-\"*25)\n",
    "print(\"Shape of MNIST Labels.\\nShape = (num_examples * num_labels/classes)\\n\")\n",
    "print(\"Train      : \", mnist.train.labels.shape)\n",
    "print(\"Validation : \", mnist.validation.labels.shape)\n",
    "print(\"Train      : \", mnist.test.labels.shape)"
   ]
  },
  {
   "cell_type": "markdown",
   "metadata": {
    "deletable": true,
    "editable": true
   },
   "source": [
    "Lets look at a random image and its label"
   ]
  },
  {
   "cell_type": "code",
   "execution_count": 3,
   "metadata": {
    "collapsed": false,
    "deletable": true,
    "editable": true
   },
   "outputs": [
    {
     "name": "stdout",
     "output_type": "stream",
     "text": [
      "Image label: 8\n"
     ]
    },
    {
     "data": {
      "text/plain": [
       "<matplotlib.image.AxesImage at 0x7fcceaf47d68>"
      ]
     },
     "execution_count": 3,
     "metadata": {},
     "output_type": "execute_result"
    },
    {
     "data": {
      "image/png": "[encoded data removed]",
      "text/plain": [
       "<matplotlib.figure.Figure at 0x7fcd543962b0>"
      ]
     },
     "metadata": {},
     "output_type": "display_data"
    }
   ],
   "source": [
    "# Pull out a random image & its label\n",
    "random_image_index = 200\n",
    "random_image = mnist.train.images[random_image_index]\n",
    "random_image_label = mnist.train.labels[random_image_index]\n",
    "\n",
    "# Print the label and the image as grayscale\n",
    "print(\"Image label: %d\"%(random_image_label.argmax()))\n",
    "pil_image = Image.fromarray(((random_image.reshape(28,28)) * 256).astype('uint8'), \"L\")\n",
    "imshow(ImageOps.invert(pil_image), cmap='gray')"
   ]
  },
  {
   "cell_type": "markdown",
   "metadata": {
    "deletable": true,
    "editable": true
   },
   "source": [
    "---\n",
    "## Logistic Regression - Softmax\n",
    "---\n",
    "\n",
    "Now let's build a softmax classifier (linear) to classify MNIST images. We will use Mini-batch gradient descent for optimization\n",
    "\n",
    "First, declare some of the hyperparameters that will be used by our softmax"
   ]
  },
  {
   "cell_type": "code",
   "execution_count": 4,
   "metadata": {
    "collapsed": true,
    "deletable": true,
    "editable": true
   },
   "outputs": [],
   "source": [
    "# Softmax hyperparameters\n",
    "learning_rate = 0.5\n",
    "training_epochs = 5\n",
    "batch_size = 100"
   ]
  },
  {
   "cell_type": "markdown",
   "metadata": {
    "deletable": true,
    "editable": true
   },
   "source": [
    "* **Step 1**: Create placeholders to hold the images. \n",
    "\n",
    "  Using `None` for a dimension in shape means it can be *any* number."
   ]
  },
  {
   "cell_type": "code",
   "execution_count": 5,
   "metadata": {
    "collapsed": false,
    "deletable": true,
    "editable": true
   },
   "outputs": [],
   "source": [
    "# Create placeholders\n",
    "x = tf.placeholder(tf.float32, shape=(None, 784))\n",
    "y = tf.placeholder(tf.float32, shape=(None, 10))"
   ]
  },
  {
   "cell_type": "markdown",
   "metadata": {
    "deletable": true,
    "editable": true
   },
   "source": [
    "* **Step 2**: Create variables to hold the weight matrix and the bias vector "
   ]
  },
  {
   "cell_type": "code",
   "execution_count": 6,
   "metadata": {
    "collapsed": true,
    "deletable": true,
    "editable": true
   },
   "outputs": [],
   "source": [
    "# Model parameters that have to be learned\n",
    "# Initialize with zeros\n",
    "W = tf.Variable(tf.zeros([784, 10]))\n",
    "b = tf.Variable(tf.zeros([10]))"
   ]
  },
  {
   "cell_type": "markdown",
   "metadata": {
    "deletable": true,
    "editable": true
   },
   "source": [
    "* **Step 3**: Lets compute the label distribution. Apply the linear function W * X + b for each of the 10 classes. Then apply the softmax function to get a probability distribution of likelihoods for classes.  \n",
    "  Recall that softmax(x) = exp(x)/ sum_i(exp(i)) where i represents each class\n",
    "  \n",
    "  \n",
    "* **Step 4**: Compute the loss function as the cross entropy between the predicted distribution of the labels and its true distribution.  \n",
    "  Cross entropy H(Y) = - sum_i( true_dist(i) * log (computed_dist(i)) "
   ]
  },
  {
   "cell_type": "code",
   "execution_count": 7,
   "metadata": {
    "collapsed": false,
    "deletable": true,
    "editable": true
   },
   "outputs": [],
   "source": [
    "# Get all the logits i.e. W * X + b for each of the class\n",
    "logits = tf.matmul(x, W) + b\n",
    "# Take a softmax of the logits. \n",
    "y_predicted = tf.nn.softmax(logits)\n",
    "\n",
    "# Make sure you reduce the sum across columns.\n",
    "# The y_predicted has a shape of number_of_examples * 10\n",
    "# Cross entropy should first sum across columns to get individual cost and then average this error over all examples\n",
    "cross_entropy_loss = tf.reduce_mean(- tf.reduce_sum(y * tf.log(y_predicted ), axis=1))\n",
    "\n",
    "# This can apparently be numerically unstable. \n",
    "# Tensorflow provides a function that computes the logits, applies softmax and computes the cross entropy\n",
    "# The example above is split only for pedagogical purposes\n",
    "# logits = tf.matmul(x, W) + b\n",
    "# cross_entropy_loss = tf.reduce_mean(tf.nn.softmax_cross_entropy_with_logits(labels=y, logits=logits)) "
   ]
  },
  {
   "cell_type": "markdown",
   "metadata": {
    "deletable": true,
    "editable": true
   },
   "source": [
    "* **Step 5**: Lets create a gradient descent optimizer to minimize the cross entropy loss"
   ]
  },
  {
   "cell_type": "code",
   "execution_count": 8,
   "metadata": {
    "collapsed": true,
    "deletable": true,
    "editable": true
   },
   "outputs": [],
   "source": [
    "# Create an optimizer with the learning rate\n",
    "optimizer = tf.train.GradientDescentOptimizer(learning_rate)\n",
    "# Use the optimizer to minimize the loss\n",
    "train_step = optimizer.minimize(cross_entropy_loss)"
   ]
  },
  {
   "cell_type": "markdown",
   "metadata": {
    "deletable": true,
    "editable": true
   },
   "source": [
    "* **Step 6**: Lets compute the accuracy "
   ]
  },
  {
   "cell_type": "code",
   "execution_count": 9,
   "metadata": {
    "collapsed": false,
    "deletable": true,
    "editable": true
   },
   "outputs": [],
   "source": [
    "# First create the correct prediction by taking the maximum value from the prediction class\n",
    "# and checking it with the actual class. The result is a boolean column vector\n",
    "correct_predictions = tf.equal(tf.argmax(y_predicted, 1), tf.argmax(y, 1))\n",
    "# Calculate the accuracy over all the images\n",
    "# Cast the boolean vector into float (1s & 0s) and then compute the average. \n",
    "accuracy = tf.reduce_mean(tf.cast(correct_predictions, tf.float32))"
   ]
  },
  {
   "cell_type": "markdown",
   "metadata": {
    "deletable": true,
    "editable": true
   },
   "source": [
    "Now lets run our graph as usual"
   ]
  },
  {
   "cell_type": "code",
   "execution_count": 10,
   "metadata": {
    "collapsed": false,
    "deletable": true,
    "editable": true
   },
   "outputs": [
    {
     "name": "stdout",
     "output_type": "stream",
     "text": [
      "Epoch: 4/5. Batch #: 500/550. Current loss: 0.27087. Train Accuracy: 0.92\n",
      "Test Accuracy: 0.92\n"
     ]
    }
   ],
   "source": [
    "# Initializing global variables\n",
    "init = tf.global_variables_initializer()\n",
    "\n",
    "# Create a session to run the graph\n",
    "with tf.Session() as sess:\n",
    "    # Run initialization\n",
    "    sess.run(init)\n",
    "\n",
    "    # For the set number of epochs\n",
    "    for epoch in range(training_epochs):\n",
    "        \n",
    "        # Compute the total number of batches\n",
    "        num_batches = int(mnist.train.num_examples/batch_size)\n",
    "        \n",
    "        # Iterate over all the examples (1 epoch)\n",
    "        for batch_num in range(num_batches):\n",
    "            \n",
    "            # Get a batch of examples\n",
    "            batch_xs, batch_ys = mnist.train.next_batch(batch_size)\n",
    "\n",
    "            # Now run the session \n",
    "            curr_loss, cur_accuracy, _ = sess.run([cross_entropy_loss, accuracy, train_step], \n",
    "                                                    feed_dict={x: batch_xs, y: batch_ys})\n",
    "            \n",
    "            if batch_num % 50 == 0:\n",
    "                display.clear_output(wait=True)\n",
    "                time.sleep(0.1)\n",
    "                # Print the loss\n",
    "                print(\"Epoch: %d/%d. Batch #: %d/%d. Current loss: %.5f. Train Accuracy: %.2f\"\n",
    "                      %(epoch, training_epochs, batch_num, num_batches, curr_loss, cur_accuracy))\n",
    "\n",
    "    # Run the session to compute the value and print it\n",
    "    test_accuracy = sess.run(accuracy,\n",
    "                                       feed_dict={x: mnist.test.images, \n",
    "                                                  y: mnist.test.labels})\n",
    "    print(\"Test Accuracy: %.2f\"%test_accuracy)"
   ]
  }
 ],
 "metadata": {
  "kernelspec": {
   "display_name": "Python 3",
   "language": "python",
   "name": "python3"
  },
  "language_info": {
   "codemirror_mode": {
    "name": "ipython",
    "version": 3
   },
   "file_extension": ".py",
   "mimetype": "text/x-python",
   "name": "python",
   "nbconvert_exporter": "python",
   "pygments_lexer": "ipython3",
   "version": "3.4.3"
  }
 },
 "nbformat": 4,
 "nbformat_minor": 2
}
